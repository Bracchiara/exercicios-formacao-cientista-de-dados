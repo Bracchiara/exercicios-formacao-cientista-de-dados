{
 "cells": [
  {
   "cell_type": "code",
   "execution_count": 4,
   "metadata": {},
   "outputs": [
    {
     "name": "stdout",
     "output_type": "stream",
     "text": [
      "Amplitude: 218\n"
     ]
    }
   ],
   "source": [
    "# 1.Faça um programa que tenha uma função chamada amplitude. A função deve receber uma lista e imprimir a amplitude. \n",
    "\n",
    "lst = [3, 42, 67, 88, 150, 221]\n",
    "\n",
    "amplitude = max(lst) - min(lst)\n",
    "\n",
    "print(\"Amplitude:\", amplitude)"
   ]
  },
  {
   "cell_type": "code",
   "execution_count": 6,
   "metadata": {},
   "outputs": [
    {
     "name": "stdout",
     "output_type": "stream",
     "text": [
      "p\n",
      "y\n",
      "t\n",
      "h\n",
      "o\n",
      "n\n"
     ]
    }
   ],
   "source": [
    "# 2.Faça uma função que receba uma string e imprima esta string na forma vertical.\n",
    "\n",
    "text = input(\"Digite uma palavra: \")\n",
    "\n",
    "for letter in text:\n",
    "    print(letter)"
   ]
  },
  {
   "cell_type": "code",
   "execution_count": null,
   "metadata": {},
   "outputs": [],
   "source": [
    "# 3.Crie um programa que leia o peso de uma carga em números inteiros. Se o peso for até 10kg, informe que o valor será de R$50,00.\n",
    "# Entre 11 e 20kg, informe que o valor será de R$ 80,00. Se for maior que 20 informe que o transporte não é aceito.\n",
    "\n",
    "peso = float(input(\"Informe o peso da encomenda: \"))\n",
    "\n",
    "if peso <= 0:\n",
    "    print(\"Informe um peso válido, maior que 0.\")\n",
    "elif peso <= 10:\n",
    "    print(f\"Para {peso}kg, o valor do frete é R$ 50,00.\")\n",
    "elif peso <= 20:\n",
    "    print(f\"Para {peso}kg, o valor do frete é R$ 80,00.\")\n",
    "elif peso >20:\n",
    "    print(f\"O peso de {peso}kg não é aceito, peso máximo de 20kg.\")\n",
    "else:\n",
    "    print(\"Informe um peso válido.\")"
   ]
  }
 ],
 "metadata": {
  "kernelspec": {
   "display_name": "Python 3",
   "language": "python",
   "name": "python3"
  },
  "language_info": {
   "codemirror_mode": {
    "name": "ipython",
    "version": 3
   },
   "file_extension": ".py",
   "mimetype": "text/x-python",
   "name": "python",
   "nbconvert_exporter": "python",
   "pygments_lexer": "ipython3",
   "version": "3.11.9"
  }
 },
 "nbformat": 4,
 "nbformat_minor": 2
}
